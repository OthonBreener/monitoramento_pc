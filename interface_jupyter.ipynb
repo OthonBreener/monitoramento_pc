{
 "cells": [
  {
   "cell_type": "code",
   "execution_count": 20,
   "metadata": {},
   "outputs": [],
   "source": [
    "from psutil import cpu_percent, cpu_count, sensors_fans, sensors_battery, sensors_temperatures, disk_partitions, disk_usage, disk_io_counters\n"
   ]
  },
  {
   "cell_type": "code",
   "execution_count": 15,
   "metadata": {},
   "outputs": [
    {
     "data": {
      "text/plain": [
       "[5.1, 5.0, 5.0, 4.8, 5.1, 5.0, 4.3, 4.7, 4.5, 4.6, 4.5, 4.5]"
      ]
     },
     "execution_count": 15,
     "metadata": {},
     "output_type": "execute_result"
    }
   ],
   "source": [
    "cpu_percent(percpu=True)"
   ]
  },
  {
   "cell_type": "code",
   "execution_count": 16,
   "metadata": {},
   "outputs": [
    {
     "data": {
      "text/plain": [
       "5.1"
      ]
     },
     "execution_count": 16,
     "metadata": {},
     "output_type": "execute_result"
    }
   ],
   "source": [
    "cpu_percent()"
   ]
  },
  {
   "cell_type": "code",
   "execution_count": 8,
   "metadata": {},
   "outputs": [
    {
     "data": {
      "text/plain": [
       "12"
      ]
     },
     "execution_count": 8,
     "metadata": {},
     "output_type": "execute_result"
    }
   ],
   "source": [
    "cpu_count()"
   ]
  },
  {
   "cell_type": "code",
   "execution_count": 12,
   "metadata": {},
   "outputs": [
    {
     "data": {
      "text/plain": [
       "['__abs__',\n",
       " '__add__',\n",
       " '__and__',\n",
       " '__bool__',\n",
       " '__ceil__',\n",
       " '__class__',\n",
       " '__delattr__',\n",
       " '__dir__',\n",
       " '__divmod__',\n",
       " '__doc__',\n",
       " '__eq__',\n",
       " '__float__',\n",
       " '__floor__',\n",
       " '__floordiv__',\n",
       " '__format__',\n",
       " '__ge__',\n",
       " '__getattribute__',\n",
       " '__getnewargs__',\n",
       " '__gt__',\n",
       " '__hash__',\n",
       " '__index__',\n",
       " '__init__',\n",
       " '__init_subclass__',\n",
       " '__int__',\n",
       " '__invert__',\n",
       " '__le__',\n",
       " '__lshift__',\n",
       " '__lt__',\n",
       " '__mod__',\n",
       " '__mul__',\n",
       " '__ne__',\n",
       " '__neg__',\n",
       " '__new__',\n",
       " '__or__',\n",
       " '__pos__',\n",
       " '__pow__',\n",
       " '__radd__',\n",
       " '__rand__',\n",
       " '__rdivmod__',\n",
       " '__reduce__',\n",
       " '__reduce_ex__',\n",
       " '__repr__',\n",
       " '__rfloordiv__',\n",
       " '__rlshift__',\n",
       " '__rmod__',\n",
       " '__rmul__',\n",
       " '__ror__',\n",
       " '__round__',\n",
       " '__rpow__',\n",
       " '__rrshift__',\n",
       " '__rshift__',\n",
       " '__rsub__',\n",
       " '__rtruediv__',\n",
       " '__rxor__',\n",
       " '__setattr__',\n",
       " '__sizeof__',\n",
       " '__str__',\n",
       " '__sub__',\n",
       " '__subclasshook__',\n",
       " '__truediv__',\n",
       " '__trunc__',\n",
       " '__xor__',\n",
       " 'bit_length',\n",
       " 'conjugate',\n",
       " 'denominator',\n",
       " 'from_bytes',\n",
       " 'imag',\n",
       " 'numerator',\n",
       " 'real',\n",
       " 'to_bytes']"
      ]
     },
     "execution_count": 12,
     "metadata": {},
     "output_type": "execute_result"
    }
   ],
   "source": [
    "dir(cpu_count())\n"
   ]
  },
  {
   "cell_type": "code",
   "execution_count": 4,
   "metadata": {},
   "outputs": [
    {
     "data": {
      "text/plain": [
       "{'amdgpu': [sfan(label='', current=0)]}"
      ]
     },
     "execution_count": 4,
     "metadata": {},
     "output_type": "execute_result"
    }
   ],
   "source": [
    "sensors_fans()"
   ]
  },
  {
   "cell_type": "code",
   "execution_count": 7,
   "metadata": {},
   "outputs": [],
   "source": [
    "sensors_battery()"
   ]
  },
  {
   "cell_type": "code",
   "execution_count": 15,
   "metadata": {},
   "outputs": [
    {
     "data": {
      "text/plain": [
       "{'nvme': [shwtemp(label='Composite', current=29.85, high=114.85, critical=119.85)],\n",
       " 'amdgpu': [shwtemp(label='edge', current=43.0, high=100.0, critical=100.0),\n",
       "  shwtemp(label='junction', current=44.0, high=110.0, critical=110.0),\n",
       "  shwtemp(label='mem', current=56.0, high=100.0, critical=100.0)]}"
      ]
     },
     "execution_count": 15,
     "metadata": {},
     "output_type": "execute_result"
    }
   ],
   "source": [
    "sensors_temperatures()"
   ]
  },
  {
   "cell_type": "code",
   "execution_count": 17,
   "metadata": {},
   "outputs": [
    {
     "data": {
      "text/plain": [
       "[sdiskpart(device='/dev/sda6', mountpoint='/', fstype='ext4', opts='rw,relatime,errors=remount-ro', maxfile=255, maxpath=4096),\n",
       " sdiskpart(device='/dev/loop0', mountpoint='/snap/bare/5', fstype='squashfs', opts='ro,nodev,relatime', maxfile=256, maxpath=4096),\n",
       " sdiskpart(device='/dev/loop1', mountpoint='/snap/canonical-livepatch/146', fstype='squashfs', opts='ro,nodev,relatime', maxfile=256, maxpath=4096),\n",
       " sdiskpart(device='/dev/loop3', mountpoint='/snap/discord/132', fstype='squashfs', opts='ro,nodev,relatime', maxfile=256, maxpath=4096),\n",
       " sdiskpart(device='/dev/loop2', mountpoint='/snap/core/13250', fstype='squashfs', opts='ro,nodev,relatime', maxfile=256, maxpath=4096),\n",
       " sdiskpart(device='/dev/loop7', mountpoint='/snap/core18/2409', fstype='squashfs', opts='ro,nodev,relatime', maxfile=256, maxpath=4096),\n",
       " sdiskpart(device='/dev/loop6', mountpoint='/snap/google-cloud-sdk/247', fstype='squashfs', opts='ro,nodev,relatime', maxfile=256, maxpath=4096),\n",
       " sdiskpart(device='/dev/loop5', mountpoint='/snap/discord/137', fstype='squashfs', opts='ro,nodev,relatime', maxfile=256, maxpath=4096),\n",
       " sdiskpart(device='/dev/loop8', mountpoint='/snap/code/98', fstype='squashfs', opts='ro,nodev,relatime', maxfile=256, maxpath=4096),\n",
       " sdiskpart(device='/dev/loop9', mountpoint='/snap/jupyter/6', fstype='squashfs', opts='ro,nodev,relatime', maxfile=256, maxpath=4096),\n",
       " sdiskpart(device='/dev/loop10', mountpoint='/snap/core20/1494', fstype='squashfs', opts='ro,nodev,relatime', maxfile=256, maxpath=4096),\n",
       " sdiskpart(device='/dev/loop11', mountpoint='/snap/core20/1518', fstype='squashfs', opts='ro,nodev,relatime', maxfile=256, maxpath=4096),\n",
       " sdiskpart(device='/dev/loop12', mountpoint='/snap/gnome-3-34-1804/77', fstype='squashfs', opts='ro,nodev,relatime', maxfile=256, maxpath=4096),\n",
       " sdiskpart(device='/dev/loop13', mountpoint='/snap/pycharm-community/278', fstype='squashfs', opts='ro,nodev,relatime', maxfile=256, maxpath=4096),\n",
       " sdiskpart(device='/dev/sda5', mountpoint='/boot/efi', fstype='vfat', opts='rw,relatime,fmask=0077,dmask=0077,codepage=437,iocharset=iso8859-1,shortname=mixed,errors=remount-ro', maxfile=1530, maxpath=4096),\n",
       " sdiskpart(device='/dev/loop14', mountpoint='/snap/gnome-3-38-2004/106', fstype='squashfs', opts='ro,nodev,relatime', maxfile=256, maxpath=4096),\n",
       " sdiskpart(device='/dev/loop15', mountpoint='/snap/postman/149', fstype='squashfs', opts='ro,nodev,relatime', maxfile=256, maxpath=4096),\n",
       " sdiskpart(device='/dev/loop16', mountpoint='/snap/snap-store/558', fstype='squashfs', opts='ro,nodev,relatime', maxfile=256, maxpath=4096),\n",
       " sdiskpart(device='/dev/loop17', mountpoint='/snap/core18/2344', fstype='squashfs', opts='ro,nodev,relatime', maxfile=256, maxpath=4096),\n",
       " sdiskpart(device='/dev/loop18', mountpoint='/snap/gnome-3-34-1804/72', fstype='squashfs', opts='ro,nodev,relatime', maxfile=256, maxpath=4096),\n",
       " sdiskpart(device='/dev/loop19', mountpoint='/snap/gnome-3-28-1804/161', fstype='squashfs', opts='ro,nodev,relatime', maxfile=256, maxpath=4096),\n",
       " sdiskpart(device='/dev/loop20', mountpoint='/snap/pycharm-community/281', fstype='squashfs', opts='ro,nodev,relatime', maxfile=256, maxpath=4096),\n",
       " sdiskpart(device='/dev/loop21', mountpoint='/snap/dbeaver-ce/184', fstype='squashfs', opts='ro,nodev,relatime', maxfile=256, maxpath=4096),\n",
       " sdiskpart(device='/dev/loop22', mountpoint='/snap/code/97', fstype='squashfs', opts='ro,nodev,relatime', maxfile=256, maxpath=4096),\n",
       " sdiskpart(device='/dev/loop23', mountpoint='/snap/gnome-3-38-2004/99', fstype='squashfs', opts='ro,nodev,relatime', maxfile=256, maxpath=4096),\n",
       " sdiskpart(device='/dev/loop24', mountpoint='/snap/snapd/16010', fstype='squashfs', opts='ro,nodev,relatime', maxfile=256, maxpath=4096),\n",
       " sdiskpart(device='/dev/loop25', mountpoint='/snap/snap-store/547', fstype='squashfs', opts='ro,nodev,relatime', maxfile=256, maxpath=4096),\n",
       " sdiskpart(device='/dev/loop26', mountpoint='/snap/snapd/15904', fstype='squashfs', opts='ro,nodev,relatime', maxfile=256, maxpath=4096),\n",
       " sdiskpart(device='/dev/loop27', mountpoint='/snap/core/13308', fstype='squashfs', opts='ro,nodev,relatime', maxfile=256, maxpath=4096),\n",
       " sdiskpart(device='/dev/loop28', mountpoint='/snap/gtk-common-themes/1534', fstype='squashfs', opts='ro,nodev,relatime', maxfile=256, maxpath=4096),\n",
       " sdiskpart(device='/dev/loop29', mountpoint='/snap/gtk-common-themes/1519', fstype='squashfs', opts='ro,nodev,relatime', maxfile=256, maxpath=4096),\n",
       " sdiskpart(device='/dev/loop30', mountpoint='/snap/canonical-livepatch/138', fstype='squashfs', opts='ro,nodev,relatime', maxfile=256, maxpath=4096),\n",
       " sdiskpart(device='/dev/loop31', mountpoint='/snap/dbeaver-ce/185', fstype='squashfs', opts='ro,nodev,relatime', maxfile=256, maxpath=4096),\n",
       " sdiskpart(device='/dev/loop32', mountpoint='/snap/google-cloud-sdk/250', fstype='squashfs', opts='ro,nodev,relatime', maxfile=256, maxpath=4096)]"
      ]
     },
     "execution_count": 17,
     "metadata": {},
     "output_type": "execute_result"
    }
   ],
   "source": [
    "disk_partitions()"
   ]
  },
  {
   "cell_type": "code",
   "execution_count": 19,
   "metadata": {},
   "outputs": [
    {
     "data": {
      "text/plain": [
       "sdiskusage(total=139198095360, used=65951477760, free=66104401920, percent=49.9)"
      ]
     },
     "execution_count": 19,
     "metadata": {},
     "output_type": "execute_result"
    }
   ],
   "source": [
    "disk_usage('/')"
   ]
  },
  {
   "cell_type": "code",
   "execution_count": 21,
   "metadata": {},
   "outputs": [
    {
     "data": {
      "text/plain": [
       "sdiskio(read_count=137497, write_count=527080, read_bytes=4968547840, write_bytes=35279049728, read_time=72156, write_time=695040, read_merged_count=40770, write_merged_count=545284, busy_time=400832)"
      ]
     },
     "execution_count": 21,
     "metadata": {},
     "output_type": "execute_result"
    }
   ],
   "source": [
    "disk_io_counters()"
   ]
  }
 ],
 "metadata": {
  "kernelspec": {
   "display_name": "Python 3.9.9 64-bit ('3.9.9')",
   "language": "python",
   "name": "python3"
  },
  "language_info": {
   "codemirror_mode": {
    "name": "ipython",
    "version": 3
   },
   "file_extension": ".py",
   "mimetype": "text/x-python",
   "name": "python",
   "nbconvert_exporter": "python",
   "pygments_lexer": "ipython3",
   "version": "3.9.9"
  },
  "vscode": {
   "interpreter": {
    "hash": "4c675c882c8f87d36e9cab146a25a8190d8d4c4191365f112a98758607c3e398"
   }
  }
 },
 "nbformat": 4,
 "nbformat_minor": 2
}
